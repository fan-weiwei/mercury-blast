{
 "cells": [
  {
   "cell_type": "code",
   "execution_count": 1,
   "metadata": {},
   "outputs": [
    {
     "name": "stderr",
     "output_type": "stream",
     "text": [
      "Using TensorFlow backend.\n"
     ]
    }
   ],
   "source": [
    "import preprocessor\n",
    "import models\n",
    "import numpy as np\n",
    "from keras.models import model_from_json\n",
    "\n",
    "from tqdm import tqdm"
   ]
  },
  {
   "cell_type": "code",
   "execution_count": 2,
   "metadata": {
    "collapsed": true
   },
   "outputs": [],
   "source": [
    "data = preprocessor.read_data('../train.csv')[35000:]"
   ]
  },
  {
   "cell_type": "code",
   "execution_count": 3,
   "metadata": {},
   "outputs": [
    {
     "name": "stdout",
     "output_type": "stream",
     "text": [
      "5479\n"
     ]
    }
   ],
   "source": [
    "file_names = list(map(lambda x: x.name, data))\n",
    "print(file_names.__len__())"
   ]
  },
  {
   "cell_type": "code",
   "execution_count": 4,
   "metadata": {},
   "outputs": [
    {
     "name": "stderr",
     "output_type": "stream",
     "text": [
      "100%|██████████| 5479/5479 [00:03<00:00, 1799.61it/s]\n"
     ]
    },
    {
     "name": "stdout",
     "output_type": "stream",
     "text": [
      "(5479, 64, 64, 3)\n",
      "(5479, 17)\n",
      "*** Loading Model ***\n",
      "*** Compiling Model ***\n",
      "*** Generating Predictions ***\n"
     ]
    }
   ],
   "source": [
    "x_test = []\n",
    "y_test = []\n",
    "\n",
    "for item in tqdm(data):\n",
    "    x_test.append(models.AnnotatedRecord.medium_image(item))\n",
    "    y_test.append(models.AnnotatedRecord.some_hot(item))\n",
    "\n",
    "x_data = np.array(x_test, np.float16) / 255.\n",
    "y_data = np.array(y_test, np.uint8)\n",
    "\n",
    "print(x_data.shape)\n",
    "print(y_data.shape)\n",
    "\n",
    "print(\"*** Loading Model ***\")\n",
    "# load json and create model\n",
    "json_file = open('model.json', 'r')\n",
    "model_json = json_file.read()\n",
    "json_file.close()\n",
    "model = model_from_json(model_json)\n",
    "\n",
    "model.load_weights(\"model.h5\")\n",
    "\n",
    "print(\"*** Compiling Model ***\")\n",
    "model.compile(loss='binary_crossentropy',\n",
    "              # We NEED binary here, since categorical_crossentropy l1 norms the output before calculating loss.\n",
    "              optimizer='adam',\n",
    "              metrics=['accuracy'])\n",
    "\n",
    "print(\"*** Generating Predictions ***\")\n",
    "#scores = model.evaluate(x_train, y_train, verbose=0)\n",
    "#print(\"%s: %.2f%%\" % (model.metrics_names[1], scores[1]*100))\n",
    "\n",
    "predictions = model.predict(x_data)"
   ]
  },
  {
   "cell_type": "code",
   "execution_count": 5,
   "metadata": {},
   "outputs": [
    {
     "name": "stdout",
     "output_type": "stream",
     "text": [
      "['primary', 'agriculture', 'water', 'cultivation', 'habitation', 'road', 'clear']\n",
      "['primary', 'agriculture', 'water', 'cultivation', 'road', 'clear']\n",
      "['primary', 'agriculture', 'water', 'cultivation', 'habitation', 'road', 'clear']\n",
      "['primary', 'clear']\n",
      "['primary', 'agriculture', 'cultivation', 'clear']\n",
      "['primary', 'clear']\n",
      "['primary', 'agriculture', 'water', 'road', 'partly_cloudy']\n",
      "['primary', 'partly_cloudy']\n",
      "['primary', 'partly_cloudy']\n",
      "['primary', 'agriculture', 'water', 'road', 'partly_cloudy']\n"
     ]
    }
   ],
   "source": [
    "thresholds = [0.2] * len(models.inv_mapping)\n",
    "\n",
    "predictions_labels = []\n",
    "for prediction in predictions:\n",
    "    labels = [models.inv_mapping[i] for i, value in enumerate(prediction) if value > thresholds[i]]\n",
    "    predictions_labels.append(labels)\n",
    "    \n",
    "print(*predictions_labels[:10], sep='\\n')"
   ]
  },
  {
   "cell_type": "code",
   "execution_count": 6,
   "metadata": {},
   "outputs": [
    {
     "name": "stdout",
     "output_type": "stream",
     "text": [
      "['primary', 'cultivation', 'haze', 'slash_burn']\n",
      "['primary', 'agriculture', 'road', 'clear']\n",
      "['primary', 'agriculture', 'water', 'cultivation', 'clear']\n",
      "['primary', 'road', 'clear', 'selective_logging']\n",
      "['primary', 'clear']\n",
      "['primary', 'clear']\n",
      "['primary', 'water', 'partly_cloudy']\n",
      "['primary', 'partly_cloudy']\n",
      "['primary', 'partly_cloudy']\n",
      "['primary', 'agriculture', 'cultivation', 'habitation', 'road', 'partly_cloudy']\n"
     ]
    }
   ],
   "source": [
    "y_labels = []\n",
    "for record in y_data:\n",
    "    labels = [models.inv_mapping[i] for i, value in enumerate(record) if value == 1]\n",
    "    y_labels.append(labels)\n",
    "print(*y_labels[:10], sep='\\n')"
   ]
  },
  {
   "cell_type": "code",
   "execution_count": 7,
   "metadata": {},
   "outputs": [
    {
     "name": "stdout",
     "output_type": "stream",
     "text": [
      "[1, 1, 1, 1, 1, 1, 1, 0, 0, 0, 0, 0, 0, 0, 0, 0, 0]\n",
      "[1, 1, 1, 1, 0, 1, 1, 0, 0, 0, 0, 0, 0, 0, 0, 0, 0]\n",
      "[1, 1, 1, 1, 1, 1, 1, 0, 0, 0, 0, 0, 0, 0, 0, 0, 0]\n",
      "[1, 0, 0, 0, 0, 0, 1, 0, 0, 0, 0, 0, 0, 0, 0, 0, 0]\n",
      "[1, 1, 0, 1, 0, 0, 1, 0, 0, 0, 0, 0, 0, 0, 0, 0, 0]\n",
      "[1 0 0 1 0 0 0 0 1 0 1 0 0 0 0 0 0]\n",
      "[1 1 0 0 0 1 1 0 0 0 0 0 0 0 0 0 0]\n",
      "[1 1 1 1 0 0 1 0 0 0 0 0 0 0 0 0 0]\n",
      "[1 0 0 0 0 1 1 0 0 0 0 0 0 0 0 1 0]\n",
      "[1 0 0 0 0 0 1 0 0 0 0 0 0 0 0 0 0]\n"
     ]
    }
   ],
   "source": [
    "predict_data = []\n",
    "for prediction in predictions:\n",
    "    predict_data.append(list(map(lambda x: int(x > .20), prediction)))\n",
    "    \n",
    "print(*predict_data[:5], sep='\\n')\n",
    "print(*y_data[:5], sep='\\n')"
   ]
  },
  {
   "cell_type": "code",
   "execution_count": 8,
   "metadata": {},
   "outputs": [
    {
     "name": "stdout",
     "output_type": "stream",
     "text": [
      "Total number of items: 5479\n"
     ]
    }
   ],
   "source": [
    "total_num = y_data.__len__()\n",
    "print(\"Total number of items: {}\".format(total_num))"
   ]
  },
  {
   "cell_type": "code",
   "execution_count": 39,
   "metadata": {},
   "outputs": [
    {
     "name": "stdout",
     "output_type": "stream",
     "text": [
      "\n",
      "Feature:  blow_down \n",
      "\n",
      "Total:  13\n",
      "True Positives:  0\n",
      "False Negatives:  13\n",
      "False Positives:  0\n",
      "Accuracy  nan\n",
      "Recall  0.0\n"
     ]
    },
    {
     "name": "stderr",
     "output_type": "stream",
     "text": [
      "/usr/local/lib/python3.6/site-packages/ipykernel_launcher.py:17: RuntimeWarning: invalid value encountered in long_scalars\n"
     ]
    }
   ],
   "source": [
    "index = 16\n",
    "\n",
    "print(\"\\nFeature: \", models.inv_mapping[index], \"\\n\")\n",
    "\n",
    "total_features = sum([x[index]==1 for x in y_data])\n",
    "print(\"Total: \", total_features)\n",
    "\n",
    "true_positives = sum([x[index]==1 and y[index]==1 for x, y in zip(y_data, predict_data)])\n",
    "print(\"True Positives: \", true_positives)\n",
    "\n",
    "false_negatives = sum([x[index]==1 and y[index]==0 for x, y in zip(y_data, predict_data)])\n",
    "print(\"False Negatives: \", false_negatives)\n",
    "\n",
    "false_positives = sum([x[index]==0 and y[index]==1 for x, y in zip(y_data, predict_data)])\n",
    "print(\"False Positives: \", false_positives)\n",
    "\n",
    "accuracy = true_positives / (true_positives + false_positives)\n",
    "print(\"Accuracy \", accuracy)\n",
    "\n",
    "recall = true_positives / (true_positives + false_negatives)\n",
    "print(\"Recall \", recall)"
   ]
  },
  {
   "cell_type": "code",
   "execution_count": null,
   "metadata": {
    "collapsed": true
   },
   "outputs": [],
   "source": [
    ""
   ]
  },
  {
   "cell_type": "code",
   "execution_count": null,
   "metadata": {
    "collapsed": true
   },
   "outputs": [],
   "source": [
    ""
   ]
  },
  {
   "cell_type": "code",
   "execution_count": null,
   "metadata": {
    "collapsed": true
   },
   "outputs": [],
   "source": [
    ""
   ]
  }
 ],
 "metadata": {
  "kernelspec": {
   "display_name": "Python 3",
   "language": "python",
   "name": "python3"
  },
  "language_info": {
   "codemirror_mode": {
    "name": "ipython",
    "version": 3.0
   },
   "file_extension": ".py",
   "mimetype": "text/x-python",
   "name": "python",
   "nbconvert_exporter": "python",
   "pygments_lexer": "ipython3",
   "version": "3.6.1"
  }
 },
 "nbformat": 4,
 "nbformat_minor": 0
}